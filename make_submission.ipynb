{
 "cells": [
  {
   "cell_type": "code",
   "execution_count": 11,
   "metadata": {},
   "outputs": [],
   "source": [
    "import numpy as np\n",
    "import pandas as pd\n",
    "\n",
    "import torch\n",
    "import torch.nn as nn\n",
    "import torch.optim as optim\n",
    "from torch.utils.data import DataLoader\n",
    "from datasets import Dataset\n",
    "\n",
    "from datetime import datetime, timedelta\n",
    "from tqdm.auto import tqdm\n",
    "tqdm.pandas()"
   ]
  },
  {
   "cell_type": "code",
   "execution_count": 21,
   "metadata": {},
   "outputs": [
    {
     "name": "stderr",
     "output_type": "stream",
     "text": [
      "100%|██████████| 20000/20000 [00:32<00:00, 608.24it/s]\n"
     ]
    }
   ],
   "source": [
    "test_path = './test.parquet'\n",
    "test_df = pd.read_parquet(test_path)\n",
    "test_df['new_dates'] = test_df['dates'].progress_apply(lambda x: pd.date_range(start=x.min(), end=x.max(), freq='M').date)"
   ]
  },
  {
   "cell_type": "code",
   "execution_count": 26,
   "metadata": {},
   "outputs": [],
   "source": [
    "def adjust_dates(dates):\n",
    "  if len(dates) < median:\n",
    "    first_date = dates[0]\n",
    "    dif = median - len(dates)\n",
    "    for i in range(dif):\n",
    "      first_date -= timedelta(days=30)\n",
    "      dates = np.insert(dates, 0, first_date)\n",
    "\n",
    "  return dates[:median]\n",
    "\n",
    "def new_values(row):\n",
    "  return np.interp(row['new_dates'], row['dates'], row['values'])\n",
    "\n",
    "def min_max_scale(sample):\n",
    "  return (sample.new_values - sample.min_values) / (sample.max_values - sample.min_values)\n",
    "\n",
    "def fill_nan(row, fill_array):\n",
    "  if row.isnan_values == 1:\n",
    "    return fill_array\n",
    "  return row.scaled_values"
   ]
  },
  {
   "cell_type": "code",
   "execution_count": 23,
   "metadata": {},
   "outputs": [
    {
     "name": "stderr",
     "output_type": "stream",
     "text": [
      "100%|██████████| 20000/20000 [00:03<00:00, 5126.27it/s]\n",
      "100%|██████████| 20000/20000 [00:01<00:00, 15599.10it/s]\n"
     ]
    }
   ],
   "source": [
    "median = int(np.median(test_df.new_dates.map(len)))\n",
    "test_df['new_dates'] = test_df['new_dates'].progress_apply(adjust_dates)\n",
    "\n",
    "test_df['new_dates'] = test_df.new_dates.map(lambda x: pd.DatetimeIndex(x))\n",
    "test_df['dates'] = test_df.dates.map(lambda x: pd.DatetimeIndex(x))\n",
    "test_df['new_values'] = test_df.progress_apply(lambda x: new_values(x), axis=1)"
   ]
  },
  {
   "cell_type": "code",
   "execution_count": 24,
   "metadata": {},
   "outputs": [
    {
     "name": "stderr",
     "output_type": "stream",
     "text": [
      " 73%|███████▎  | 14575/20000 [00:00<00:00, 16068.01it/s]/tmp/ipykernel_29252/2087035916.py:15: RuntimeWarning: invalid value encountered in divide\n",
      "  return (sample.new_values - sample.min_values) / (sample.max_values - sample.min_values)\n",
      "100%|██████████| 20000/20000 [00:01<00:00, 15104.97it/s]\n"
     ]
    }
   ],
   "source": [
    "test_df['min_values'] = test_df.new_values.map(min)\n",
    "test_df['max_values'] = test_df.new_values.map(max)\n",
    "test_df['scaled_values'] = test_df.progress_apply(lambda x: min_max_scale(x), axis=1)"
   ]
  },
  {
   "cell_type": "code",
   "execution_count": 25,
   "metadata": {},
   "outputs": [],
   "source": [
    "test_df['isnan_values'] = test_df['scaled_values'].map(lambda x: np.isinf(x).any() or np.isnan(x).any()).astype(int)"
   ]
  },
  {
   "cell_type": "code",
   "execution_count": 27,
   "metadata": {},
   "outputs": [
    {
     "name": "stderr",
     "output_type": "stream",
     "text": [
      "19978it [00:20, 998.60it/s] \n"
     ]
    }
   ],
   "source": [
    "counts_test = [0] * median\n",
    "for i, row in tqdm(test_df[test_df['isnan_values'] == 0].iterrows()):\n",
    "  for j in range(median):\n",
    "    values = row.scaled_values\n",
    "    counts_test[j] += values[j]"
   ]
  },
  {
   "cell_type": "code",
   "execution_count": 28,
   "metadata": {},
   "outputs": [
    {
     "name": "stderr",
     "output_type": "stream",
     "text": [
      "100%|██████████| 20000/20000 [00:00<00:00, 29691.18it/s]\n"
     ]
    }
   ],
   "source": [
    "counts_test = np.array(counts_test) / len(test_df[test_df['isnan_values'] == 0])\n",
    "test_df['scaled_values'] = test_df.progress_apply(lambda x: fill_nan(x, counts_test), axis=1)"
   ]
  },
  {
   "cell_type": "code",
   "execution_count": 29,
   "metadata": {},
   "outputs": [],
   "source": [
    "test_dataset = Dataset.from_pandas(test_df[['id', 'scaled_values']])\n",
    "test_dataset.set_format(type='pt')"
   ]
  },
  {
   "cell_type": "code",
   "execution_count": 30,
   "metadata": {},
   "outputs": [],
   "source": [
    "BATCH_SIZE = 128\n",
    "test_dataloader = DataLoader(test_dataset, batch_size=BATCH_SIZE, shuffle=False)"
   ]
  },
  {
   "cell_type": "code",
   "execution_count": 31,
   "metadata": {},
   "outputs": [],
   "source": [
    "device = torch.device('cuda' if torch.cuda.is_available() else 'cpu')"
   ]
  },
  {
   "cell_type": "code",
   "execution_count": 33,
   "metadata": {},
   "outputs": [],
   "source": [
    "class Simple1DCNN(nn.Module):\n",
    "  def __init__(self, input_channels, output_size):\n",
    "    super(Simple1DCNN, self).__init__()\n",
    "\n",
    "    self.conv1 = nn.Conv1d(input_channels, 16, kernel_size=3, padding=1)\n",
    "    self.conv2 = nn.Conv1d(16, 32, kernel_size=3, padding=1)\n",
    "    self.conv3 = nn.Conv1d(32, 64, kernel_size=3, padding=1)\n",
    "\n",
    "    self.pool = nn.MaxPool1d(kernel_size=2)\n",
    "\n",
    "    self.fc1 = nn.Linear(64 * 7, 256)\n",
    "    self.fc2 = nn.Linear(256, 128)\n",
    "    self.fc3 = nn.Linear(128, output_size)\n",
    "\n",
    "    self.relu = nn.ReLU()\n",
    "    self.batch_norm1 = nn.BatchNorm1d(16)\n",
    "    self.batch_norm2 = nn.BatchNorm1d(32)\n",
    "    self.batch_norm3 = nn.BatchNorm1d(64)\n",
    "\n",
    "  def forward(self, x):\n",
    "    x = x.unsqueeze(1)\n",
    "    x = self.relu(self.conv1(x))\n",
    "    x = self.batch_norm1(self.pool(x))\n",
    "\n",
    "    x = self.relu(self.conv2(x))\n",
    "    x = self.batch_norm2(self.pool(x))\n",
    "\n",
    "    x = self.relu(self.conv3(x))\n",
    "    x = self.batch_norm3(self.pool(x))\n",
    "    x = x.view(x.size(0), -1)\n",
    "\n",
    "    x = self.relu(self.fc1(x))\n",
    "    x = self.relu(self.fc2(x))\n",
    "    x = self.fc3(x)\n",
    "\n",
    "    return x"
   ]
  },
  {
   "cell_type": "code",
   "execution_count": 35,
   "metadata": {},
   "outputs": [
    {
     "data": {
      "text/plain": [
       "Simple1DCNN(\n",
       "  (conv1): Conv1d(1, 16, kernel_size=(3,), stride=(1,), padding=(1,))\n",
       "  (conv2): Conv1d(16, 32, kernel_size=(3,), stride=(1,), padding=(1,))\n",
       "  (conv3): Conv1d(32, 64, kernel_size=(3,), stride=(1,), padding=(1,))\n",
       "  (pool): MaxPool1d(kernel_size=2, stride=2, padding=0, dilation=1, ceil_mode=False)\n",
       "  (fc1): Linear(in_features=448, out_features=256, bias=True)\n",
       "  (fc2): Linear(in_features=256, out_features=128, bias=True)\n",
       "  (fc3): Linear(in_features=128, out_features=2, bias=True)\n",
       "  (relu): ReLU()\n",
       "  (batch_norm1): BatchNorm1d(16, eps=1e-05, momentum=0.1, affine=True, track_running_stats=True)\n",
       "  (batch_norm2): BatchNorm1d(32, eps=1e-05, momentum=0.1, affine=True, track_running_stats=True)\n",
       "  (batch_norm3): BatchNorm1d(64, eps=1e-05, momentum=0.1, affine=True, track_running_stats=True)\n",
       ")"
      ]
     },
     "execution_count": 35,
     "metadata": {},
     "output_type": "execute_result"
    }
   ],
   "source": [
    "model = torch.load('./model.pth', weights_only=False, map_location=torch.device('cpu'))\n",
    "model.eval()"
   ]
  },
  {
   "cell_type": "code",
   "execution_count": 37,
   "metadata": {},
   "outputs": [
    {
     "name": "stderr",
     "output_type": "stream",
     "text": [
      "157it [00:02, 64.93it/s]\n"
     ]
    }
   ],
   "source": [
    "total_predictions, ids = [], []\n",
    "sgm = nn.Sigmoid()\n",
    "with torch.no_grad():\n",
    "  for batch_idx, batch in tqdm(enumerate(test_dataloader)):\n",
    "      data = batch['scaled_values'].to(device)\n",
    "      ids = np.append(ids, batch['id'])\n",
    "      output = sgm(model(data))\n",
    "      predictions = output[:, 1]\n",
    "      total_predictions = np.append(total_predictions, predictions.cpu().detach().numpy())"
   ]
  },
  {
   "cell_type": "code",
   "execution_count": 38,
   "metadata": {},
   "outputs": [],
   "source": [
    "submission = pd.DataFrame({'id': ids, 'score': total_predictions})\n",
    "submission.to_csv('submission.csv', index=False)"
   ]
  },
  {
   "cell_type": "code",
   "execution_count": 39,
   "metadata": {},
   "outputs": [
    {
     "data": {
      "text/html": [
       "<div>\n",
       "<style scoped>\n",
       "    .dataframe tbody tr th:only-of-type {\n",
       "        vertical-align: middle;\n",
       "    }\n",
       "\n",
       "    .dataframe tbody tr th {\n",
       "        vertical-align: top;\n",
       "    }\n",
       "\n",
       "    .dataframe thead th {\n",
       "        text-align: right;\n",
       "    }\n",
       "</style>\n",
       "<table border=\"1\" class=\"dataframe\">\n",
       "  <thead>\n",
       "    <tr style=\"text-align: right;\">\n",
       "      <th></th>\n",
       "      <th>id</th>\n",
       "      <th>score</th>\n",
       "    </tr>\n",
       "  </thead>\n",
       "  <tbody>\n",
       "    <tr>\n",
       "      <th>0</th>\n",
       "      <td>6125.0</td>\n",
       "      <td>1.008047e-08</td>\n",
       "    </tr>\n",
       "    <tr>\n",
       "      <th>1</th>\n",
       "      <td>26781.0</td>\n",
       "      <td>1.528109e-02</td>\n",
       "    </tr>\n",
       "    <tr>\n",
       "      <th>2</th>\n",
       "      <td>13333.0</td>\n",
       "      <td>9.180045e-01</td>\n",
       "    </tr>\n",
       "    <tr>\n",
       "      <th>3</th>\n",
       "      <td>53218.0</td>\n",
       "      <td>2.036845e-04</td>\n",
       "    </tr>\n",
       "    <tr>\n",
       "      <th>4</th>\n",
       "      <td>84204.0</td>\n",
       "      <td>4.039332e-04</td>\n",
       "    </tr>\n",
       "    <tr>\n",
       "      <th>...</th>\n",
       "      <td>...</td>\n",
       "      <td>...</td>\n",
       "    </tr>\n",
       "    <tr>\n",
       "      <th>19995</th>\n",
       "      <td>80341.0</td>\n",
       "      <td>3.587674e-04</td>\n",
       "    </tr>\n",
       "    <tr>\n",
       "      <th>19996</th>\n",
       "      <td>5891.0</td>\n",
       "      <td>5.761599e-03</td>\n",
       "    </tr>\n",
       "    <tr>\n",
       "      <th>19997</th>\n",
       "      <td>29091.0</td>\n",
       "      <td>9.931400e-04</td>\n",
       "    </tr>\n",
       "    <tr>\n",
       "      <th>19998</th>\n",
       "      <td>85877.0</td>\n",
       "      <td>9.025795e-01</td>\n",
       "    </tr>\n",
       "    <tr>\n",
       "      <th>19999</th>\n",
       "      <td>73528.0</td>\n",
       "      <td>1.634726e-05</td>\n",
       "    </tr>\n",
       "  </tbody>\n",
       "</table>\n",
       "<p>20000 rows × 2 columns</p>\n",
       "</div>"
      ],
      "text/plain": [
       "            id         score\n",
       "0       6125.0  1.008047e-08\n",
       "1      26781.0  1.528109e-02\n",
       "2      13333.0  9.180045e-01\n",
       "3      53218.0  2.036845e-04\n",
       "4      84204.0  4.039332e-04\n",
       "...        ...           ...\n",
       "19995  80341.0  3.587674e-04\n",
       "19996   5891.0  5.761599e-03\n",
       "19997  29091.0  9.931400e-04\n",
       "19998  85877.0  9.025795e-01\n",
       "19999  73528.0  1.634726e-05\n",
       "\n",
       "[20000 rows x 2 columns]"
      ]
     },
     "execution_count": 39,
     "metadata": {},
     "output_type": "execute_result"
    }
   ],
   "source": [
    "submission"
   ]
  },
  {
   "cell_type": "code",
   "execution_count": null,
   "metadata": {},
   "outputs": [],
   "source": []
  }
 ],
 "metadata": {
  "kernelspec": {
   "display_name": "Python 3",
   "language": "python",
   "name": "python3"
  },
  "language_info": {
   "codemirror_mode": {
    "name": "ipython",
    "version": 3
   },
   "file_extension": ".py",
   "mimetype": "text/x-python",
   "name": "python",
   "nbconvert_exporter": "python",
   "pygments_lexer": "ipython3",
   "version": "3.10.12"
  }
 },
 "nbformat": 4,
 "nbformat_minor": 2
}
